{
 "cells": [
  {
   "cell_type": "markdown",
   "metadata": {},
   "source": [
    "# Part 11 - Secure Deep Learning Classification \n",
    "\n",
    "\n",
    "\n",
    "## Your data matters, your model too\n",
    "\n",
    "Data is the driver behind Machine Learning. Organizations who create and collect data are able to build and train their own machine learning models. This allows them to offer the use of such models as a service (MLaaS) to outside organizations. This is useful as other organizations who might not be able to create these models themselves but who still would like to use this model to make predictions on their own data. \n",
    "\n",
    "However, a model hosted in the cloud still presents a privacy/IP issue. In order for external organizations to use it - they must either upload their input data (such as images to be classified) or download the model. Uploading input data can be problematic from a privacy perspective, but downloading the model might not be an option if the organization who created/owns the model is worried about losing their IP.\n",
    "\n",
    "\n",
    "## Computing over encrypted data\n",
    "\n",
    "In this context, one potential solution is to encrypt both the model and the data in a way which allows one organization to use a model owned by another organization without either disclosing their IP to one another. Several encryption schemes exist that allow for computation over encrypted data, among which Secure Multi-Party Computation (SMPC), Homomorphic Encryption (FHE/SHE) and Functional Encryption (FE) are the most well known types. We will focus here on Secure Multi-Party Computation ([introduced in detail here in tutorial 5](https://github.com/OpenMined/PySyft/blob/dev/examples/tutorials/Part%205%20-%20Intro%20to%20Encrypted%20Programs.ipynb)) which consists of private additive sharing. It relies on crypto protocols such as SecureNN and SPDZ, the details of which are given [in this excellent blog post](https://mortendahl.github.io/2017/09/19/private-image-analysis-with-mpc/). \n",
    "\n",
    "These protocols achieve remarkable performances over encrypted data, and over the past few months we have been working to make these protocols easy to use. Specifically, we're building tools to allow you to use these protocols without having to re-implement the protocol yourself (or even necessarily know the cryptography behind how it works). Let's jump right in.\n",
    "\n",
    "## Set up\n",
    "\n",
    "The exact setting in this tutorial is the following: consider that you are the server and you have some data. First, you define and train a model with this private training data. Then, you get in touch with a client who holds some of their own data who would like to access your model to make some predictions. \n",
    "\n",
    "You encrypt your model (a neural network). The client encrypts their data. You both then use these two encrypted assets to use the model to classify the data. Finally, the result of the prediction is sent back to the client in an encrypted way so that the server (_i.e._ you) learns nothing about the client's data (you learn neither the inputs or the prediction).\n",
    "\n",
    "Ideally we would additively share the `client`'s input between itself and the `server` and vice versa for the model. For the sake of simplicity, the shares will be held by two other workers `alice` and `bob`. If you consider that alice is owned by the client and bob by the server, it's completely equivalent.\n",
    "\n",
    "The computation is secure in the honest-but-curious adversary model which is standard in [many MPC frameworks](https://arxiv.org/pdf/1801.03239.pdf).\n",
    "\n",
    "**We have now everything we need, let's get started!**\n",
    "\n",
    "\n",
    "Author:\n",
    "- Théo Ryffel - Twitter: [@theoryffel](https://twitter.com/theoryffel) · GitHub: [@LaRiffle](https://github.com/LaRiffle)\n",
    "\n",
    "**Let's get started!**"
   ]
  },
  {
   "cell_type": "markdown",
   "metadata": {},
   "source": [
    "### Imports and model specifications"
   ]
  },
  {
   "cell_type": "code",
   "execution_count": 1,
   "metadata": {},
   "outputs": [],
   "source": [
    "import torch\n",
    "import torch.nn as nn\n",
    "import torch.nn.functional as F\n",
    "import torch.optim as optim\n",
    "from torchvision import datasets, transforms"
   ]
  },
  {
   "cell_type": "markdown",
   "metadata": {},
   "source": [
    "   We also need to execute commands specific to importing/starting PySyft. We create a few workers (named `client`, `bob`, and `alice`). Lastly, we define the `crypto_provider` who gives all the crypto primitives we may need ([See our tutorial on SMPC for more details](https://github.com/OpenMined/PySyft/blob/master/examples/tutorials/Part%2009%20-%20Intro%20to%20Encrypted%20Programs.ipynb)."
   ]
  },
  {
   "cell_type": "code",
   "execution_count": 2,
   "metadata": {},
   "outputs": [
    {
     "name": "stderr",
     "output_type": "stream",
     "text": [
      "/usr/local/lib/python3.6/dist-packages/tensorflow/python/framework/dtypes.py:516: FutureWarning: Passing (type, 1) or '1type' as a synonym of type is deprecated; in a future version of numpy, it will be understood as (type, (1,)) / '(1,)type'.\n",
      "  _np_qint8 = np.dtype([(\"qint8\", np.int8, 1)])\n",
      "/usr/local/lib/python3.6/dist-packages/tensorflow/python/framework/dtypes.py:517: FutureWarning: Passing (type, 1) or '1type' as a synonym of type is deprecated; in a future version of numpy, it will be understood as (type, (1,)) / '(1,)type'.\n",
      "  _np_quint8 = np.dtype([(\"quint8\", np.uint8, 1)])\n",
      "/usr/local/lib/python3.6/dist-packages/tensorflow/python/framework/dtypes.py:518: FutureWarning: Passing (type, 1) or '1type' as a synonym of type is deprecated; in a future version of numpy, it will be understood as (type, (1,)) / '(1,)type'.\n",
      "  _np_qint16 = np.dtype([(\"qint16\", np.int16, 1)])\n",
      "/usr/local/lib/python3.6/dist-packages/tensorflow/python/framework/dtypes.py:519: FutureWarning: Passing (type, 1) or '1type' as a synonym of type is deprecated; in a future version of numpy, it will be understood as (type, (1,)) / '(1,)type'.\n",
      "  _np_quint16 = np.dtype([(\"quint16\", np.uint16, 1)])\n",
      "/usr/local/lib/python3.6/dist-packages/tensorflow/python/framework/dtypes.py:520: FutureWarning: Passing (type, 1) or '1type' as a synonym of type is deprecated; in a future version of numpy, it will be understood as (type, (1,)) / '(1,)type'.\n",
      "  _np_qint32 = np.dtype([(\"qint32\", np.int32, 1)])\n",
      "/usr/local/lib/python3.6/dist-packages/tensorflow/python/framework/dtypes.py:525: FutureWarning: Passing (type, 1) or '1type' as a synonym of type is deprecated; in a future version of numpy, it will be understood as (type, (1,)) / '(1,)type'.\n",
      "  np_resource = np.dtype([(\"resource\", np.ubyte, 1)])\n",
      "/usr/local/lib/python3.6/dist-packages/h5py/__init__.py:34: FutureWarning: Conversion of the second argument of issubdtype from `float` to `np.floating` is deprecated. In future, it will be treated as `np.float64 == np.dtype(float).type`.\n",
      "  from ._conv import register_converters as _register_converters\n",
      "/usr/local/lib/python3.6/dist-packages/tensorboard/compat/tensorflow_stub/dtypes.py:541: FutureWarning: Passing (type, 1) or '1type' as a synonym of type is deprecated; in a future version of numpy, it will be understood as (type, (1,)) / '(1,)type'.\n",
      "  _np_qint8 = np.dtype([(\"qint8\", np.int8, 1)])\n",
      "/usr/local/lib/python3.6/dist-packages/tensorboard/compat/tensorflow_stub/dtypes.py:542: FutureWarning: Passing (type, 1) or '1type' as a synonym of type is deprecated; in a future version of numpy, it will be understood as (type, (1,)) / '(1,)type'.\n",
      "  _np_quint8 = np.dtype([(\"quint8\", np.uint8, 1)])\n",
      "/usr/local/lib/python3.6/dist-packages/tensorboard/compat/tensorflow_stub/dtypes.py:543: FutureWarning: Passing (type, 1) or '1type' as a synonym of type is deprecated; in a future version of numpy, it will be understood as (type, (1,)) / '(1,)type'.\n",
      "  _np_qint16 = np.dtype([(\"qint16\", np.int16, 1)])\n",
      "/usr/local/lib/python3.6/dist-packages/tensorboard/compat/tensorflow_stub/dtypes.py:544: FutureWarning: Passing (type, 1) or '1type' as a synonym of type is deprecated; in a future version of numpy, it will be understood as (type, (1,)) / '(1,)type'.\n",
      "  _np_quint16 = np.dtype([(\"quint16\", np.uint16, 1)])\n",
      "/usr/local/lib/python3.6/dist-packages/tensorboard/compat/tensorflow_stub/dtypes.py:545: FutureWarning: Passing (type, 1) or '1type' as a synonym of type is deprecated; in a future version of numpy, it will be understood as (type, (1,)) / '(1,)type'.\n",
      "  _np_qint32 = np.dtype([(\"qint32\", np.int32, 1)])\n",
      "/usr/local/lib/python3.6/dist-packages/tensorboard/compat/tensorflow_stub/dtypes.py:550: FutureWarning: Passing (type, 1) or '1type' as a synonym of type is deprecated; in a future version of numpy, it will be understood as (type, (1,)) / '(1,)type'.\n",
      "  np_resource = np.dtype([(\"resource\", np.ubyte, 1)])\n"
     ]
    }
   ],
   "source": [
    "import syft as sy\n",
    "hook = sy.TorchHook(torch) \n",
    "client = sy.VirtualWorker(hook, id=\"client\")\n",
    "bob = sy.VirtualWorker(hook, id=\"bob\")\n",
    "alice = sy.VirtualWorker(hook, id=\"alice\")\n",
    "crypto_provider = sy.VirtualWorker(hook, id=\"crypto_provider\") "
   ]
  },
  {
   "cell_type": "markdown",
   "metadata": {},
   "source": [
    "We define the setting of the learning task"
   ]
  },
  {
   "cell_type": "code",
   "execution_count": 3,
   "metadata": {},
   "outputs": [],
   "source": [
    "# Try adding CUDA function here by Alfons0329\n",
    "class Arguments():\n",
    "    def __init__(self):\n",
    "        self.batch_size = 64\n",
    "        self.test_batch_size = 50\n",
    "        self.epochs = 2\n",
    "        self.lr = 0.001\n",
    "        self.log_interval = 100\n",
    "\n",
    "args = Arguments()\n",
    "# use_cuda = torch.cuda.is_available()\n",
    "# device = torch.device(\"cuda\" if use_cuda else \"cpu\")\n",
    "# kwargs = {'num_workers': 1, 'pin_memory': True} if use_cuda else{}\n",
    "# print('Use device: ', device)\n",
    "\n",
    "# Added the following 2 lines according to my issue in --> (https://github.com/OpenMined/PySyft/pull/2766)\n",
    "# torch.set_default_tensor_type(torch.cuda.FloatTensor)\n",
    "# torch.multiprocessing.set_start_method('spawn', force=True)"
   ]
  },
  {
   "cell_type": "markdown",
   "metadata": {},
   "source": [
    "### Data loading and sending to workers\n",
    "\n",
    "In our setting, we assume that the server has access to some data to first train its model. Here is the MNIST training set."
   ]
  },
  {
   "cell_type": "code",
   "execution_count": 4,
   "metadata": {},
   "outputs": [],
   "source": [
    "train_loader = torch.utils.data.DataLoader(\n",
    "    datasets.MNIST('../data', train=True, download=True,\n",
    "                   transform=transforms.Compose([\n",
    "                       transforms.ToTensor(),\n",
    "                       transforms.Normalize((0.1307,), (0.3081,))\n",
    "                   ])),\n",
    "    batch_size=args.batch_size, shuffle=True)"
   ]
  },
  {
   "cell_type": "markdown",
   "metadata": {},
   "source": [
    "Second, the client has some data and would like to have predictions on it using the server's model. This client encrypts its data by sharing it additively across two workers `alice` and `bob`.\n",
    "> SMPC uses crypto protocols which require to work on integers. We leverage here the PySyft tensor abstraction to convert PyTorch Float tensors into Fixed Precision Tensors using `.fix_precision()`. For example 0.123 with precision 2 does a rounding at the 2nd decimal digit so the number stored is the integer 12. \n"
   ]
  },
  {
   "cell_type": "code",
   "execution_count": 5,
   "metadata": {},
   "outputs": [],
   "source": [
    "test_loader = torch.utils.data.DataLoader(\n",
    "    datasets.MNIST('../data', train=False,\n",
    "                   transform=transforms.Compose([\n",
    "                       transforms.ToTensor(),\n",
    "                       transforms.Normalize((0.1307,), (0.3081,))\n",
    "                   ])),\n",
    "    batch_size=args.test_batch_size, shuffle=True)\n",
    "\n",
    "private_test_loader = []\n",
    "for data, target in test_loader:\n",
    "    private_test_loader.append((\n",
    "        data.fix_precision().share(alice, bob, crypto_provider=crypto_provider),\n",
    "        target.fix_precision().share(alice, bob, crypto_provider=crypto_provider)\n",
    "    ))"
   ]
  },
  {
   "cell_type": "markdown",
   "metadata": {},
   "source": [
    "### Feed Forward Neural Network specification\n",
    "Here is the network specification used by the server"
   ]
  },
  {
   "cell_type": "code",
   "execution_count": 6,
   "metadata": {},
   "outputs": [],
   "source": [
    "class Net(nn.Module):\n",
    "    def __init__(self):\n",
    "        super(Net, self).__init__()\n",
    "        self.fc1 = nn.Linear(784, 500)\n",
    "        self.fc2 = nn.Linear(500, 10)\n",
    "\n",
    "    def forward(self, x):\n",
    "        x = x.view(-1, 784)\n",
    "        x = self.fc1(x)\n",
    "        x = F.relu(x)\n",
    "        x = self.fc2(x)\n",
    "        return x"
   ]
  },
  {
   "cell_type": "markdown",
   "metadata": {},
   "source": [
    "### Launch the training\n",
    "The training is done locally so this is pure local PyTorch training, nothing special here!"
   ]
  },
  {
   "cell_type": "code",
   "execution_count": 7,
   "metadata": {},
   "outputs": [],
   "source": [
    "def train(args, model, train_loader, optimizer, epoch):\n",
    "    model.train()\n",
    "    for batch_idx, (data, target) in enumerate(train_loader):\n",
    "        optimizer.zero_grad()\n",
    "        output = model(data)\n",
    "        output = F.log_softmax(output, dim=1)\n",
    "        loss = F.nll_loss(output, target)\n",
    "        loss.backward()\n",
    "        optimizer.step()\n",
    "        if batch_idx % args.log_interval == 0:\n",
    "            print('Train Epoch: {} [{}/{} ({:.0f}%)]\\tLoss: {:.6f}'.format(\n",
    "                epoch, batch_idx * args.batch_size, len(train_loader) * args.batch_size,\n",
    "                100. * batch_idx / len(train_loader), loss.item()))"
   ]
  },
  {
   "cell_type": "code",
   "execution_count": 8,
   "metadata": {
    "scrolled": true
   },
   "outputs": [
    {
     "name": "stdout",
     "output_type": "stream",
     "text": [
      "Train Epoch: 1 [0/60032 (0%)]\tLoss: 2.328440\n",
      "Train Epoch: 1 [6400/60032 (11%)]\tLoss: 0.331876\n",
      "Train Epoch: 1 [12800/60032 (21%)]\tLoss: 0.245792\n",
      "Train Epoch: 1 [19200/60032 (32%)]\tLoss: 0.167901\n",
      "Train Epoch: 1 [25600/60032 (43%)]\tLoss: 0.139712\n",
      "Train Epoch: 1 [32000/60032 (53%)]\tLoss: 0.322996\n",
      "Train Epoch: 1 [38400/60032 (64%)]\tLoss: 0.068666\n",
      "Train Epoch: 1 [44800/60032 (75%)]\tLoss: 0.105425\n",
      "Train Epoch: 1 [51200/60032 (85%)]\tLoss: 0.045525\n",
      "Train Epoch: 1 [57600/60032 (96%)]\tLoss: 0.107051\n",
      "Train Epoch: 2 [0/60032 (0%)]\tLoss: 0.081243\n",
      "Train Epoch: 2 [6400/60032 (11%)]\tLoss: 0.070055\n",
      "Train Epoch: 2 [12800/60032 (21%)]\tLoss: 0.031695\n",
      "Train Epoch: 2 [19200/60032 (32%)]\tLoss: 0.039405\n",
      "Train Epoch: 2 [25600/60032 (43%)]\tLoss: 0.044884\n",
      "Train Epoch: 2 [32000/60032 (53%)]\tLoss: 0.077936\n",
      "Train Epoch: 2 [38400/60032 (64%)]\tLoss: 0.074550\n",
      "Train Epoch: 2 [44800/60032 (75%)]\tLoss: 0.090872\n",
      "Train Epoch: 2 [51200/60032 (85%)]\tLoss: 0.088492\n",
      "Train Epoch: 2 [57600/60032 (96%)]\tLoss: 0.049817\n"
     ]
    }
   ],
   "source": [
    "model = Net()\n",
    "optimizer = torch.optim.Adam(model.parameters(), lr=args.lr)\n",
    "\n",
    "for epoch in range(1, args.epochs + 1):\n",
    "    train(args, model, train_loader, optimizer, epoch)\n"
   ]
  },
  {
   "cell_type": "code",
   "execution_count": 9,
   "metadata": {},
   "outputs": [],
   "source": [
    "def test(args, model, test_loader):\n",
    "    model.eval()\n",
    "    test_loss = 0\n",
    "    correct = 0\n",
    "    with torch.no_grad():\n",
    "        for data, target in test_loader:\n",
    "            output = model(data)\n",
    "            output = F.log_softmax(output, dim=1)\n",
    "            test_loss += F.nll_loss(output, target, reduction='sum').item() # sum up batch loss\n",
    "            pred = output.argmax(1, keepdim=True) # get the index of the max log-probability \n",
    "            correct += pred.eq(target.view_as(pred)).sum().item()\n",
    "\n",
    "    test_loss /= len(test_loader.dataset)\n",
    "\n",
    "    print('\\nTest set: Average loss: {:.4f}, Accuracy: {}/{} ({:.0f}%)\\n'.format(\n",
    "        test_loss, correct, len(test_loader.dataset),\n",
    "        100. * correct / len(test_loader.dataset)))"
   ]
  },
  {
   "cell_type": "code",
   "execution_count": 10,
   "metadata": {},
   "outputs": [
    {
     "name": "stdout",
     "output_type": "stream",
     "text": [
      "\n",
      "Test set: Average loss: 0.0886, Accuracy: 9720/10000 (97%)\n",
      "\n"
     ]
    }
   ],
   "source": [
    "test(args, model, test_loader)"
   ]
  },
  {
   "cell_type": "markdown",
   "metadata": {},
   "source": [
    "Our model is now trained and ready to be provided as a service!"
   ]
  },
  {
   "cell_type": "markdown",
   "metadata": {},
   "source": [
    "## Secure evaluation"
   ]
  },
  {
   "cell_type": "markdown",
   "metadata": {},
   "source": [
    "Now, as the server, we send the model to the workers holding the data. Because the model is sensitive information (you've spent time optimizing it!), you don't want to disclose its weights so you secret share the model just like we did with the dataset earlier."
   ]
  },
  {
   "cell_type": "code",
   "execution_count": 11,
   "metadata": {},
   "outputs": [
    {
     "name": "stdout",
     "output_type": "stream",
     "text": [
      "Net(\n",
      "  (fc1): Linear(in_features=784, out_features=500, bias=True)\n",
      "  (fc2): Linear(in_features=500, out_features=10, bias=True)\n",
      ")\n",
      "model enctypted Net(\n",
      "  (fc1): Linear(in_features=784, out_features=500, bias=True)\n",
      "  (fc2): Linear(in_features=500, out_features=10, bias=True)\n",
      ")\n"
     ]
    }
   ],
   "source": [
    "print(model)\n",
    "print('model enctypted' , model.fix_precision().share(alice, bob, crypto_provider=crypto_provider))"
   ]
  },
  {
   "cell_type": "markdown",
   "metadata": {},
   "source": [
    "This test function performs the encrypted evaluation. The model weights, the data inputs, the prediction and the target used for scoring are encrypted!\n",
    "\n",
    "However, the syntax is very similar to pure PyTorch testing of a model, isn't it nice?!\n",
    "\n",
    "The only thing we decrypt from the server side is the final score at the end to verify predictions were on average good."
   ]
  },
  {
   "cell_type": "code",
   "execution_count": 12,
   "metadata": {},
   "outputs": [],
   "source": [
    "def test(args, model, test_loader):\n",
    "    model.eval()\n",
    "    n_correct_priv = 0\n",
    "    n_total = 0\n",
    "    with torch.no_grad():\n",
    "        for data, target in test_loader:\n",
    "            output = model(data)\n",
    "            pred = output.argmax(dim=1) \n",
    "            n_correct_priv += pred.eq(target.view_as(pred)).sum()\n",
    "            n_total += args.test_batch_size\n",
    "# This 'test' function performs the encrypted evaluation. \n",
    "# The model weights, the data inputs, the prediction and the target used for scoring are all encrypted!\n",
    "\n",
    "# However as you can observe, the syntax is very similar to normal PyTorch testing! Nice!\n",
    "\n",
    "# The only thing we decrypt from the server side \n",
    "# is the final score at the end of our 200 items batches to verify predictions were on average good.      \n",
    "            n_correct = n_correct_priv.copy().get().float_precision().long().item()\n",
    "    \n",
    "            print('Test set: Accuracy: {}/{} ({:.0f}%)'.format(\n",
    "                n_correct, n_total,\n",
    "                100. * n_correct / n_total))\n"
   ]
  },
  {
   "cell_type": "code",
   "execution_count": 13,
   "metadata": {},
   "outputs": [
    {
     "name": "stdout",
     "output_type": "stream",
     "text": [
      "Test set: Accuracy: 49/50 (98%)\n",
      "Test set: Accuracy: 98/100 (98%)\n",
      "Test set: Accuracy: 147/150 (98%)\n",
      "Test set: Accuracy: 195/200 (98%)\n",
      "Test set: Accuracy: 245/250 (98%)\n",
      "Test set: Accuracy: 293/300 (98%)\n",
      "Test set: Accuracy: 342/350 (98%)\n",
      "Test set: Accuracy: 391/400 (98%)\n",
      "Test set: Accuracy: 440/450 (98%)\n",
      "Test set: Accuracy: 488/500 (98%)\n",
      "Test set: Accuracy: 538/550 (98%)\n",
      "Test set: Accuracy: 587/600 (98%)\n",
      "Test set: Accuracy: 635/650 (98%)\n",
      "Test set: Accuracy: 685/700 (98%)\n",
      "Test set: Accuracy: 735/750 (98%)\n",
      "Test set: Accuracy: 784/800 (98%)\n",
      "Test set: Accuracy: 832/850 (98%)\n",
      "Test set: Accuracy: 880/900 (98%)\n",
      "Test set: Accuracy: 928/950 (98%)\n",
      "Test set: Accuracy: 976/1000 (98%)\n",
      "Test set: Accuracy: 1025/1050 (98%)\n",
      "Test set: Accuracy: 1074/1100 (98%)\n",
      "Test set: Accuracy: 1123/1150 (98%)\n",
      "Test set: Accuracy: 1172/1200 (98%)\n",
      "Test set: Accuracy: 1221/1250 (98%)\n",
      "Test set: Accuracy: 1269/1300 (98%)\n",
      "Test set: Accuracy: 1319/1350 (98%)\n",
      "Test set: Accuracy: 1369/1400 (98%)\n",
      "Test set: Accuracy: 1416/1450 (98%)\n",
      "Test set: Accuracy: 1465/1500 (98%)\n",
      "Test set: Accuracy: 1513/1550 (98%)\n",
      "Test set: Accuracy: 1560/1600 (98%)\n",
      "Test set: Accuracy: 1609/1650 (98%)\n",
      "Test set: Accuracy: 1653/1700 (97%)\n",
      "Test set: Accuracy: 1702/1750 (97%)\n",
      "Test set: Accuracy: 1750/1800 (97%)\n",
      "Test set: Accuracy: 1799/1850 (97%)\n",
      "Test set: Accuracy: 1848/1900 (97%)\n",
      "Test set: Accuracy: 1896/1950 (97%)\n",
      "Test set: Accuracy: 1945/2000 (97%)\n",
      "Test set: Accuracy: 1995/2050 (97%)\n",
      "Test set: Accuracy: 2045/2100 (97%)\n",
      "Test set: Accuracy: 2094/2150 (97%)\n",
      "Test set: Accuracy: 2144/2200 (97%)\n",
      "Test set: Accuracy: 2191/2250 (97%)\n",
      "Test set: Accuracy: 2241/2300 (97%)\n",
      "Test set: Accuracy: 2291/2350 (97%)\n",
      "Test set: Accuracy: 2338/2400 (97%)\n",
      "Test set: Accuracy: 2386/2450 (97%)\n",
      "Test set: Accuracy: 2435/2500 (97%)\n",
      "Test set: Accuracy: 2483/2550 (97%)\n",
      "Test set: Accuracy: 2532/2600 (97%)\n",
      "Test set: Accuracy: 2581/2650 (97%)\n",
      "Test set: Accuracy: 2629/2700 (97%)\n",
      "Test set: Accuracy: 2676/2750 (97%)\n",
      "Test set: Accuracy: 2725/2800 (97%)\n",
      "Test set: Accuracy: 2773/2850 (97%)\n",
      "Test set: Accuracy: 2821/2900 (97%)\n",
      "Test set: Accuracy: 2870/2950 (97%)\n",
      "Test set: Accuracy: 2920/3000 (97%)\n",
      "Test set: Accuracy: 2969/3050 (97%)\n",
      "Test set: Accuracy: 3017/3100 (97%)\n",
      "Test set: Accuracy: 3066/3150 (97%)\n",
      "Test set: Accuracy: 3115/3200 (97%)\n",
      "Test set: Accuracy: 3161/3250 (97%)\n",
      "Test set: Accuracy: 3209/3300 (97%)\n",
      "Test set: Accuracy: 3257/3350 (97%)\n",
      "Test set: Accuracy: 3305/3400 (97%)\n",
      "Test set: Accuracy: 3354/3450 (97%)\n",
      "Test set: Accuracy: 3403/3500 (97%)\n",
      "Test set: Accuracy: 3452/3550 (97%)\n",
      "Test set: Accuracy: 3500/3600 (97%)\n",
      "Test set: Accuracy: 3549/3650 (97%)\n",
      "Test set: Accuracy: 3597/3700 (97%)\n",
      "Test set: Accuracy: 3645/3750 (97%)\n",
      "Test set: Accuracy: 3695/3800 (97%)\n",
      "Test set: Accuracy: 3743/3850 (97%)\n",
      "Test set: Accuracy: 3793/3900 (97%)\n",
      "Test set: Accuracy: 3842/3950 (97%)\n",
      "Test set: Accuracy: 3889/4000 (97%)\n",
      "Test set: Accuracy: 3935/4050 (97%)\n",
      "Test set: Accuracy: 3985/4100 (97%)\n",
      "Test set: Accuracy: 4035/4150 (97%)\n",
      "Test set: Accuracy: 4082/4200 (97%)\n",
      "Test set: Accuracy: 4129/4250 (97%)\n",
      "Test set: Accuracy: 4179/4300 (97%)\n",
      "Test set: Accuracy: 4229/4350 (97%)\n",
      "Test set: Accuracy: 4278/4400 (97%)\n",
      "Test set: Accuracy: 4326/4450 (97%)\n",
      "Test set: Accuracy: 4375/4500 (97%)\n",
      "Test set: Accuracy: 4424/4550 (97%)\n",
      "Test set: Accuracy: 4472/4600 (97%)\n",
      "Test set: Accuracy: 4522/4650 (97%)\n",
      "Test set: Accuracy: 4571/4700 (97%)\n",
      "Test set: Accuracy: 4621/4750 (97%)\n",
      "Test set: Accuracy: 4671/4800 (97%)\n",
      "Test set: Accuracy: 4721/4850 (97%)\n",
      "Test set: Accuracy: 4770/4900 (97%)\n",
      "Test set: Accuracy: 4819/4950 (97%)\n",
      "Test set: Accuracy: 4869/5000 (97%)\n",
      "Test set: Accuracy: 4919/5050 (97%)\n",
      "Test set: Accuracy: 4969/5100 (97%)\n",
      "Test set: Accuracy: 5019/5150 (97%)\n",
      "Test set: Accuracy: 5069/5200 (97%)\n",
      "Test set: Accuracy: 5118/5250 (97%)\n",
      "Test set: Accuracy: 5166/5300 (97%)\n",
      "Test set: Accuracy: 5213/5350 (97%)\n",
      "Test set: Accuracy: 5261/5400 (97%)\n",
      "Test set: Accuracy: 5310/5450 (97%)\n",
      "Test set: Accuracy: 5357/5500 (97%)\n",
      "Test set: Accuracy: 5403/5550 (97%)\n",
      "Test set: Accuracy: 5451/5600 (97%)\n",
      "Test set: Accuracy: 5499/5650 (97%)\n",
      "Test set: Accuracy: 5548/5700 (97%)\n",
      "Test set: Accuracy: 5596/5750 (97%)\n",
      "Test set: Accuracy: 5644/5800 (97%)\n",
      "Test set: Accuracy: 5693/5850 (97%)\n",
      "Test set: Accuracy: 5741/5900 (97%)\n",
      "Test set: Accuracy: 5789/5950 (97%)\n",
      "Test set: Accuracy: 5839/6000 (97%)\n",
      "Test set: Accuracy: 5886/6050 (97%)\n",
      "Test set: Accuracy: 5933/6100 (97%)\n",
      "Test set: Accuracy: 5983/6150 (97%)\n",
      "Test set: Accuracy: 6031/6200 (97%)\n",
      "Test set: Accuracy: 6080/6250 (97%)\n",
      "Test set: Accuracy: 6129/6300 (97%)\n",
      "Test set: Accuracy: 6178/6350 (97%)\n",
      "Test set: Accuracy: 6227/6400 (97%)\n",
      "Test set: Accuracy: 6276/6450 (97%)\n",
      "Test set: Accuracy: 6325/6500 (97%)\n",
      "Test set: Accuracy: 6375/6550 (97%)\n",
      "Test set: Accuracy: 6424/6600 (97%)\n",
      "Test set: Accuracy: 6474/6650 (97%)\n",
      "Test set: Accuracy: 6524/6700 (97%)\n",
      "Test set: Accuracy: 6574/6750 (97%)\n",
      "Test set: Accuracy: 6622/6800 (97%)\n",
      "Test set: Accuracy: 6672/6850 (97%)\n",
      "Test set: Accuracy: 6720/6900 (97%)\n",
      "Test set: Accuracy: 6768/6950 (97%)\n",
      "Test set: Accuracy: 6815/7000 (97%)\n",
      "Test set: Accuracy: 6864/7050 (97%)\n",
      "Test set: Accuracy: 6914/7100 (97%)\n",
      "Test set: Accuracy: 6963/7150 (97%)\n",
      "Test set: Accuracy: 7011/7200 (97%)\n",
      "Test set: Accuracy: 7061/7250 (97%)\n",
      "Test set: Accuracy: 7109/7300 (97%)\n",
      "Test set: Accuracy: 7159/7350 (97%)\n",
      "Test set: Accuracy: 7208/7400 (97%)\n",
      "Test set: Accuracy: 7256/7450 (97%)\n",
      "Test set: Accuracy: 7305/7500 (97%)\n",
      "Test set: Accuracy: 7354/7550 (97%)\n",
      "Test set: Accuracy: 7402/7600 (97%)\n",
      "Test set: Accuracy: 7450/7650 (97%)\n",
      "Test set: Accuracy: 7498/7700 (97%)\n",
      "Test set: Accuracy: 7548/7750 (97%)\n",
      "Test set: Accuracy: 7597/7800 (97%)\n",
      "Test set: Accuracy: 7644/7850 (97%)\n",
      "Test set: Accuracy: 7693/7900 (97%)\n",
      "Test set: Accuracy: 7742/7950 (97%)\n",
      "Test set: Accuracy: 7788/8000 (97%)\n",
      "Test set: Accuracy: 7837/8050 (97%)\n",
      "Test set: Accuracy: 7886/8100 (97%)\n",
      "Test set: Accuracy: 7934/8150 (97%)\n",
      "Test set: Accuracy: 7982/8200 (97%)\n",
      "Test set: Accuracy: 8031/8250 (97%)\n",
      "Test set: Accuracy: 8081/8300 (97%)\n",
      "Test set: Accuracy: 8131/8350 (97%)\n",
      "Test set: Accuracy: 8176/8400 (97%)\n",
      "Test set: Accuracy: 8226/8450 (97%)\n",
      "Test set: Accuracy: 8273/8500 (97%)\n",
      "Test set: Accuracy: 8321/8550 (97%)\n",
      "Test set: Accuracy: 8369/8600 (97%)\n",
      "Test set: Accuracy: 8416/8650 (97%)\n",
      "Test set: Accuracy: 8466/8700 (97%)\n",
      "Test set: Accuracy: 8515/8750 (97%)\n",
      "Test set: Accuracy: 8565/8800 (97%)\n",
      "Test set: Accuracy: 8611/8850 (97%)\n",
      "Test set: Accuracy: 8659/8900 (97%)\n",
      "Test set: Accuracy: 8709/8950 (97%)\n",
      "Test set: Accuracy: 8757/9000 (97%)\n",
      "Test set: Accuracy: 8805/9050 (97%)\n",
      "Test set: Accuracy: 8854/9100 (97%)\n",
      "Test set: Accuracy: 8903/9150 (97%)\n",
      "Test set: Accuracy: 8953/9200 (97%)\n",
      "Test set: Accuracy: 9000/9250 (97%)\n",
      "Test set: Accuracy: 9048/9300 (97%)\n",
      "Test set: Accuracy: 9098/9350 (97%)\n",
      "Test set: Accuracy: 9146/9400 (97%)\n",
      "Test set: Accuracy: 9194/9450 (97%)\n",
      "Test set: Accuracy: 9241/9500 (97%)\n",
      "Test set: Accuracy: 9291/9550 (97%)\n",
      "Test set: Accuracy: 9341/9600 (97%)\n",
      "Test set: Accuracy: 9388/9650 (97%)\n",
      "Test set: Accuracy: 9433/9700 (97%)\n",
      "Test set: Accuracy: 9483/9750 (97%)\n",
      "Test set: Accuracy: 9531/9800 (97%)\n",
      "Test set: Accuracy: 9581/9850 (97%)\n",
      "Test set: Accuracy: 9628/9900 (97%)\n",
      "Test set: Accuracy: 9676/9950 (97%)\n",
      "Test set: Accuracy: 9724/10000 (97%)\n"
     ]
    }
   ],
   "source": [
    "test(args, model, private_test_loader)"
   ]
  },
  {
   "cell_type": "markdown",
   "metadata": {},
   "source": [
    "Et voilà! Here you are, you have learned how to do end to end secure predictions: the weights of the server's model have not leaked to the client and the server has no information about the data input nor the classification output!\n",
    "\n",
    "Regarding performance, classifying one image takes **less than 0.1 second**, approximately **33ms** on my laptop (2,7 GHz Intel Core i7, 16GB RAM). However, this is using very fast communication (all the workers are on my local machine). Performance will vary depending on how fast different workers can talk to each other."
   ]
  },
  {
   "cell_type": "markdown",
   "metadata": {},
   "source": [
    "## Conclusion\n",
    "\n",
    "You have seen how easy it is to leverage PyTorch and PySyft to perform practical Secure Machine Learning and protect users data, without having to be a crypto expert!\n",
    "\n",
    "More on this topic will come soon, including convolutional layers to properly benchmark PySyft performance with respect to other libraries, as well as private encrypted training of neural networks, which is needed when a organisation resorts to external sensitive data to train its own model. Stay tuned!\n",
    "\n",
    "If you enjoyed this and would like to join the movement toward privacy preserving, decentralized ownership of AI and the AI supply chain (data), you can do so in the following ways! \n",
    "\n",
    "### Star PySyft on GitHub\n",
    "\n",
    "The easiest way to help our community is just by starring the repositories! This helps raise awareness of the cool tools we're building.\n",
    "\n",
    "- [Star PySyft](https://github.com/OpenMined/PySyft)\n",
    "\n",
    "### Pick our tutorials on GitHub!\n",
    "\n",
    "We made really nice tutorials to get a better understanding of what Federated and Privacy-Preserving Learning should look like and how we are building the bricks for this to happen.\n",
    "\n",
    "- [Checkout the PySyft tutorials](https://github.com/OpenMined/PySyft/tree/master/examples/tutorials)\n",
    "\n",
    "\n",
    "### Join our Slack!\n",
    "\n",
    "The best way to keep up to date on the latest advancements is to join our community! \n",
    "\n",
    "- [Join slack.openmined.org](http://slack.openmined.org)\n",
    "\n",
    "### Join a Code Project!\n",
    "\n",
    "The best way to contribute to our community is to become a code contributor! If you want to start \"one off\" mini-projects, you can go to PySyft GitHub Issues page and search for issues marked `Good First Issue`.\n",
    "\n",
    "- [Good First Issue Tickets](https://github.com/OpenMined/PySyft/issues?q=is%3Aopen+is%3Aissue+label%3A%22good+first+issue%22)\n",
    "\n",
    "### Donate\n",
    "\n",
    "If you don't have time to contribute to our codebase, but would still like to lend support, you can also become a Backer on our Open Collective. All donations go toward our web hosting and other community expenses such as hackathons and meetups!\n",
    "\n",
    "- [Donate through OpenMined's Open Collective Page](https://opencollective.com/openmined)"
   ]
  },
  {
   "cell_type": "code",
   "execution_count": null,
   "metadata": {},
   "outputs": [],
   "source": []
  }
 ],
 "metadata": {
  "kernelspec": {
   "display_name": "Python 3",
   "language": "python",
   "name": "python3"
  },
  "language_info": {
   "codemirror_mode": {
    "name": "ipython",
    "version": 3
   },
   "file_extension": ".py",
   "mimetype": "text/x-python",
   "name": "python",
   "nbconvert_exporter": "python",
   "pygments_lexer": "ipython3",
   "version": "3.6.9"
  }
 },
 "nbformat": 4,
 "nbformat_minor": 2
}
